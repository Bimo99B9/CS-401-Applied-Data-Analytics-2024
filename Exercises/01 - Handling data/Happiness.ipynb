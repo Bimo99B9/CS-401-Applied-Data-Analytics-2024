{
 "cells": [
  {
   "cell_type": "markdown",
   "metadata": {},
   "source": [
    "## Data from World Happiness Report\n",
    "\n",
    "The World Happiness Report is an annual publication of the United Nations Sustainable Development Solutions Network. It contains articles, and rankings of national happiness based on respondent ratings of their own lives, which the report also correlates with various life factors.\n",
    "\n",
    "In this notebook we will explore the happiness of different countries and the features associated.\n",
    "The datasets that we will use are available in *Data*: **happiness2020.pkl** and **countries_info.csv**.\n",
    "\n",
    "Although the features are self-explanatory, here a summary: \n",
    "\n",
    "**happiness2020.pkl**\n",
    "* country: *Name of the country*\n",
    "* happiness_score: *Happiness score*\n",
    "* social_support: *Social support (mitigation the effects of inequality)*\n",
    "* healthy_life_expectancy: *Healthy Life Expectancy*\n",
    "* freedom_of_choices: *Freedom to make life choices*\n",
    "* generosity: *Generosity (charity, volunteers)*\n",
    "* perception_of_corruption: *Corruption Perception*\n",
    "* world_region: *Area of the world of the country*\n",
    "\n",
    "**countries_info.csv**\n",
    "* country_name: *Name of the country*\n",
    "* area: *Area in sq mi*\n",
    "* population: *Number of people*\n",
    "* literacy: *Literacy percentage*"
   ]
  },
  {
   "cell_type": "code",
   "execution_count": 28,
   "metadata": {},
   "outputs": [
    {
     "name": "stderr",
     "output_type": "stream",
     "text": [
      "\"head\" no se reconoce como un comando interno o externo,\n",
      "programa o archivo por lotes ejecutable.\n"
     ]
    }
   ],
   "source": [
    "!head Data/countries_info.csv"
   ]
  },
  {
   "cell_type": "code",
   "execution_count": 29,
   "metadata": {},
   "outputs": [],
   "source": [
    "import pandas as pd\n",
    "%matplotlib inline\n",
    "\n",
    "DATA_FOLDER = 'Data/'\n",
    "\n",
    "HAPPINESS_DATASET = DATA_FOLDER+\"happiness2020.csv\"\n",
    "COUNTRIES_DATASET = DATA_FOLDER+\"countries_info.csv\""
   ]
  },
  {
   "cell_type": "markdown",
   "metadata": {},
   "source": [
    "## Task 1: Load the data\n",
    "\n",
    "Load the 2 datasets in Pandas dataframes (called *happiness* and *countries*), and show the first rows.\n",
    "\n",
    "\n",
    "**Hint**: Use the correct reader and verify the data has the expected format."
   ]
  },
  {
   "cell_type": "code",
   "execution_count": 30,
   "metadata": {},
   "outputs": [],
   "source": [
    "# Write your code here\n",
    "\n",
    "happiness = pd.read_csv(HAPPINESS_DATASET)\n",
    "countries = pd.read_csv(COUNTRIES_DATASET)"
   ]
  },
  {
   "cell_type": "code",
   "execution_count": 31,
   "metadata": {},
   "outputs": [
    {
     "data": {
      "text/html": [
       "<div>\n",
       "<style scoped>\n",
       "    .dataframe tbody tr th:only-of-type {\n",
       "        vertical-align: middle;\n",
       "    }\n",
       "\n",
       "    .dataframe tbody tr th {\n",
       "        vertical-align: top;\n",
       "    }\n",
       "\n",
       "    .dataframe thead th {\n",
       "        text-align: right;\n",
       "    }\n",
       "</style>\n",
       "<table border=\"1\" class=\"dataframe\">\n",
       "  <thead>\n",
       "    <tr style=\"text-align: right;\">\n",
       "      <th></th>\n",
       "      <th>country</th>\n",
       "      <th>happiness_score</th>\n",
       "      <th>social_support</th>\n",
       "      <th>healthy_life_expectancy</th>\n",
       "      <th>freedom_of_choices</th>\n",
       "      <th>generosity</th>\n",
       "      <th>perception_of_corruption</th>\n",
       "      <th>world_region</th>\n",
       "    </tr>\n",
       "  </thead>\n",
       "  <tbody>\n",
       "    <tr>\n",
       "      <th>0</th>\n",
       "      <td>Afghanistan</td>\n",
       "      <td>2.5669</td>\n",
       "      <td>0.470367</td>\n",
       "      <td>52.590000</td>\n",
       "      <td>0.396573</td>\n",
       "      <td>-0.096429</td>\n",
       "      <td>0.933687</td>\n",
       "      <td>South Asia</td>\n",
       "    </tr>\n",
       "    <tr>\n",
       "      <th>1</th>\n",
       "      <td>Albania</td>\n",
       "      <td>4.8827</td>\n",
       "      <td>0.671070</td>\n",
       "      <td>68.708138</td>\n",
       "      <td>0.781994</td>\n",
       "      <td>-0.042309</td>\n",
       "      <td>0.896304</td>\n",
       "      <td>Central and Eastern Europe</td>\n",
       "    </tr>\n",
       "    <tr>\n",
       "      <th>2</th>\n",
       "      <td>Algeria</td>\n",
       "      <td>5.0051</td>\n",
       "      <td>0.803385</td>\n",
       "      <td>65.905174</td>\n",
       "      <td>0.466611</td>\n",
       "      <td>-0.121105</td>\n",
       "      <td>0.735485</td>\n",
       "      <td>Middle East and North Africa</td>\n",
       "    </tr>\n",
       "    <tr>\n",
       "      <th>3</th>\n",
       "      <td>Argentina</td>\n",
       "      <td>5.9747</td>\n",
       "      <td>0.900568</td>\n",
       "      <td>68.803802</td>\n",
       "      <td>0.831132</td>\n",
       "      <td>-0.194914</td>\n",
       "      <td>0.842010</td>\n",
       "      <td>Latin America and Caribbean</td>\n",
       "    </tr>\n",
       "    <tr>\n",
       "      <th>4</th>\n",
       "      <td>Armenia</td>\n",
       "      <td>4.6768</td>\n",
       "      <td>0.757479</td>\n",
       "      <td>66.750656</td>\n",
       "      <td>0.712018</td>\n",
       "      <td>-0.138780</td>\n",
       "      <td>0.773545</td>\n",
       "      <td>Commonwealth of Independent States</td>\n",
       "    </tr>\n",
       "  </tbody>\n",
       "</table>\n",
       "</div>"
      ],
      "text/plain": [
       "       country  happiness_score  social_support  healthy_life_expectancy  \\\n",
       "0  Afghanistan           2.5669        0.470367                52.590000   \n",
       "1      Albania           4.8827        0.671070                68.708138   \n",
       "2      Algeria           5.0051        0.803385                65.905174   \n",
       "3    Argentina           5.9747        0.900568                68.803802   \n",
       "4      Armenia           4.6768        0.757479                66.750656   \n",
       "\n",
       "   freedom_of_choices  generosity  perception_of_corruption  \\\n",
       "0            0.396573   -0.096429                  0.933687   \n",
       "1            0.781994   -0.042309                  0.896304   \n",
       "2            0.466611   -0.121105                  0.735485   \n",
       "3            0.831132   -0.194914                  0.842010   \n",
       "4            0.712018   -0.138780                  0.773545   \n",
       "\n",
       "                         world_region  \n",
       "0                          South Asia  \n",
       "1          Central and Eastern Europe  \n",
       "2        Middle East and North Africa  \n",
       "3         Latin America and Caribbean  \n",
       "4  Commonwealth of Independent States  "
      ]
     },
     "execution_count": 31,
     "metadata": {},
     "output_type": "execute_result"
    }
   ],
   "source": [
    "happiness.head(5)"
   ]
  },
  {
   "cell_type": "code",
   "execution_count": 32,
   "metadata": {},
   "outputs": [
    {
     "data": {
      "text/html": [
       "<div>\n",
       "<style scoped>\n",
       "    .dataframe tbody tr th:only-of-type {\n",
       "        vertical-align: middle;\n",
       "    }\n",
       "\n",
       "    .dataframe tbody tr th {\n",
       "        vertical-align: top;\n",
       "    }\n",
       "\n",
       "    .dataframe thead th {\n",
       "        text-align: right;\n",
       "    }\n",
       "</style>\n",
       "<table border=\"1\" class=\"dataframe\">\n",
       "  <thead>\n",
       "    <tr style=\"text-align: right;\">\n",
       "      <th></th>\n",
       "      <th>country_name</th>\n",
       "      <th>area</th>\n",
       "      <th>population</th>\n",
       "      <th>literacy</th>\n",
       "    </tr>\n",
       "  </thead>\n",
       "  <tbody>\n",
       "    <tr>\n",
       "      <th>0</th>\n",
       "      <td>afghanistan</td>\n",
       "      <td>647500</td>\n",
       "      <td>31056997</td>\n",
       "      <td>36,0</td>\n",
       "    </tr>\n",
       "    <tr>\n",
       "      <th>1</th>\n",
       "      <td>albania</td>\n",
       "      <td>28748</td>\n",
       "      <td>3581655</td>\n",
       "      <td>86,5</td>\n",
       "    </tr>\n",
       "    <tr>\n",
       "      <th>2</th>\n",
       "      <td>algeria</td>\n",
       "      <td>2381740</td>\n",
       "      <td>32930091</td>\n",
       "      <td>70,0</td>\n",
       "    </tr>\n",
       "    <tr>\n",
       "      <th>3</th>\n",
       "      <td>argentina</td>\n",
       "      <td>2766890</td>\n",
       "      <td>39921833</td>\n",
       "      <td>97,1</td>\n",
       "    </tr>\n",
       "    <tr>\n",
       "      <th>4</th>\n",
       "      <td>armenia</td>\n",
       "      <td>29800</td>\n",
       "      <td>2976372</td>\n",
       "      <td>98,6</td>\n",
       "    </tr>\n",
       "  </tbody>\n",
       "</table>\n",
       "</div>"
      ],
      "text/plain": [
       "  country_name     area  population literacy\n",
       "0  afghanistan   647500    31056997     36,0\n",
       "1      albania    28748     3581655     86,5\n",
       "2      algeria  2381740    32930091     70,0\n",
       "3    argentina  2766890    39921833     97,1\n",
       "4      armenia    29800     2976372     98,6"
      ]
     },
     "execution_count": 32,
     "metadata": {},
     "output_type": "execute_result"
    }
   ],
   "source": [
    "countries.head(5)"
   ]
  },
  {
   "cell_type": "markdown",
   "metadata": {},
   "source": [
    "## Task 2: Let's merge the data\n",
    "\n",
    "Create a dataframe called *country_features* by merging *happiness* and *countries*. A row of this dataframe must describe all the features that we have about a country.\n",
    "\n",
    "**Hint**: Verify that all the rows are in the final dataframe."
   ]
  },
  {
   "cell_type": "code",
   "execution_count": 34,
   "metadata": {},
   "outputs": [],
   "source": [
    "# Write your code here\n",
    "happiness.country = happiness.country.apply(lambda x: x.lower())\n",
    "country_features = pd.merge(happiness, countries, left_on=\"country\", right_on=\"country_name\")"
   ]
  },
  {
   "cell_type": "code",
   "execution_count": 35,
   "metadata": {},
   "outputs": [
    {
     "data": {
      "text/html": [
       "<div>\n",
       "<style scoped>\n",
       "    .dataframe tbody tr th:only-of-type {\n",
       "        vertical-align: middle;\n",
       "    }\n",
       "\n",
       "    .dataframe tbody tr th {\n",
       "        vertical-align: top;\n",
       "    }\n",
       "\n",
       "    .dataframe thead th {\n",
       "        text-align: right;\n",
       "    }\n",
       "</style>\n",
       "<table border=\"1\" class=\"dataframe\">\n",
       "  <thead>\n",
       "    <tr style=\"text-align: right;\">\n",
       "      <th></th>\n",
       "      <th>country</th>\n",
       "      <th>happiness_score</th>\n",
       "      <th>social_support</th>\n",
       "      <th>healthy_life_expectancy</th>\n",
       "      <th>freedom_of_choices</th>\n",
       "      <th>generosity</th>\n",
       "      <th>perception_of_corruption</th>\n",
       "      <th>world_region</th>\n",
       "      <th>country_name</th>\n",
       "      <th>area</th>\n",
       "      <th>population</th>\n",
       "      <th>literacy</th>\n",
       "    </tr>\n",
       "  </thead>\n",
       "  <tbody>\n",
       "    <tr>\n",
       "      <th>0</th>\n",
       "      <td>afghanistan</td>\n",
       "      <td>2.5669</td>\n",
       "      <td>0.470367</td>\n",
       "      <td>52.590000</td>\n",
       "      <td>0.396573</td>\n",
       "      <td>-0.096429</td>\n",
       "      <td>0.933687</td>\n",
       "      <td>South Asia</td>\n",
       "      <td>afghanistan</td>\n",
       "      <td>647500</td>\n",
       "      <td>31056997</td>\n",
       "      <td>36,0</td>\n",
       "    </tr>\n",
       "    <tr>\n",
       "      <th>1</th>\n",
       "      <td>albania</td>\n",
       "      <td>4.8827</td>\n",
       "      <td>0.671070</td>\n",
       "      <td>68.708138</td>\n",
       "      <td>0.781994</td>\n",
       "      <td>-0.042309</td>\n",
       "      <td>0.896304</td>\n",
       "      <td>Central and Eastern Europe</td>\n",
       "      <td>albania</td>\n",
       "      <td>28748</td>\n",
       "      <td>3581655</td>\n",
       "      <td>86,5</td>\n",
       "    </tr>\n",
       "    <tr>\n",
       "      <th>2</th>\n",
       "      <td>algeria</td>\n",
       "      <td>5.0051</td>\n",
       "      <td>0.803385</td>\n",
       "      <td>65.905174</td>\n",
       "      <td>0.466611</td>\n",
       "      <td>-0.121105</td>\n",
       "      <td>0.735485</td>\n",
       "      <td>Middle East and North Africa</td>\n",
       "      <td>algeria</td>\n",
       "      <td>2381740</td>\n",
       "      <td>32930091</td>\n",
       "      <td>70,0</td>\n",
       "    </tr>\n",
       "    <tr>\n",
       "      <th>3</th>\n",
       "      <td>argentina</td>\n",
       "      <td>5.9747</td>\n",
       "      <td>0.900568</td>\n",
       "      <td>68.803802</td>\n",
       "      <td>0.831132</td>\n",
       "      <td>-0.194914</td>\n",
       "      <td>0.842010</td>\n",
       "      <td>Latin America and Caribbean</td>\n",
       "      <td>argentina</td>\n",
       "      <td>2766890</td>\n",
       "      <td>39921833</td>\n",
       "      <td>97,1</td>\n",
       "    </tr>\n",
       "    <tr>\n",
       "      <th>4</th>\n",
       "      <td>armenia</td>\n",
       "      <td>4.6768</td>\n",
       "      <td>0.757479</td>\n",
       "      <td>66.750656</td>\n",
       "      <td>0.712018</td>\n",
       "      <td>-0.138780</td>\n",
       "      <td>0.773545</td>\n",
       "      <td>Commonwealth of Independent States</td>\n",
       "      <td>armenia</td>\n",
       "      <td>29800</td>\n",
       "      <td>2976372</td>\n",
       "      <td>98,6</td>\n",
       "    </tr>\n",
       "  </tbody>\n",
       "</table>\n",
       "</div>"
      ],
      "text/plain": [
       "       country  happiness_score  social_support  healthy_life_expectancy  \\\n",
       "0  afghanistan           2.5669        0.470367                52.590000   \n",
       "1      albania           4.8827        0.671070                68.708138   \n",
       "2      algeria           5.0051        0.803385                65.905174   \n",
       "3    argentina           5.9747        0.900568                68.803802   \n",
       "4      armenia           4.6768        0.757479                66.750656   \n",
       "\n",
       "   freedom_of_choices  generosity  perception_of_corruption  \\\n",
       "0            0.396573   -0.096429                  0.933687   \n",
       "1            0.781994   -0.042309                  0.896304   \n",
       "2            0.466611   -0.121105                  0.735485   \n",
       "3            0.831132   -0.194914                  0.842010   \n",
       "4            0.712018   -0.138780                  0.773545   \n",
       "\n",
       "                         world_region country_name     area  population  \\\n",
       "0                          South Asia  afghanistan   647500    31056997   \n",
       "1          Central and Eastern Europe      albania    28748     3581655   \n",
       "2        Middle East and North Africa      algeria  2381740    32930091   \n",
       "3         Latin America and Caribbean    argentina  2766890    39921833   \n",
       "4  Commonwealth of Independent States      armenia    29800     2976372   \n",
       "\n",
       "  literacy  \n",
       "0     36,0  \n",
       "1     86,5  \n",
       "2     70,0  \n",
       "3     97,1  \n",
       "4     98,6  "
      ]
     },
     "execution_count": 35,
     "metadata": {},
     "output_type": "execute_result"
    }
   ],
   "source": [
    "country_features.head(5)"
   ]
  },
  {
   "cell_type": "code",
   "execution_count": 41,
   "metadata": {},
   "outputs": [],
   "source": [
    "country_features = country_features.drop([\"country_name\"], axis=1)"
   ]
  },
  {
   "cell_type": "markdown",
   "metadata": {},
   "source": [
    "## Task 3: Where are people happier?\n",
    "\n",
    "Print the top 10 countries based on their happiness score (higher is better)."
   ]
  },
  {
   "cell_type": "code",
   "execution_count": 58,
   "metadata": {},
   "outputs": [
    {
     "data": {
      "text/plain": [
       "38         finland\n",
       "31         denmark\n",
       "115    switzerland\n",
       "50         iceland\n",
       "92          norway\n",
       "87     netherlands\n",
       "114         sweden\n",
       "88     new zealand\n",
       "6          austria\n",
       "72      luxembourg\n",
       "Name: country, dtype: object"
      ]
     },
     "execution_count": 58,
     "metadata": {},
     "output_type": "execute_result"
    }
   ],
   "source": [
    "country_features.sort_values(by=\"happiness_score\", ascending=False)[\"country\"].head(10)"
   ]
  },
  {
   "cell_type": "markdown",
   "metadata": {},
   "source": [
    "We are interested to know in what world region people are happier. \n",
    "\n",
    "Create and print a dataframe with the (1) average happiness score and (2) the number of contries for each world region.\n",
    "Sort the result to show the happiness ranking."
   ]
  },
  {
   "cell_type": "code",
   "execution_count": 68,
   "metadata": {},
   "outputs": [],
   "source": [
    "# Write your code here\n",
    "\n",
    "ranking_regions = country_features.groupby(\"world_region\")[\"happiness_score\"].mean().sort_values(ascending=False)"
   ]
  },
  {
   "cell_type": "code",
   "execution_count": 69,
   "metadata": {},
   "outputs": [
    {
     "data": {
      "text/plain": [
       "world_region\n",
       "North America and ANZ                 7.173525\n",
       "Western Europe                        6.967405\n",
       "Latin America and Caribbean           5.971280\n",
       "Central and Eastern Europe            5.891393\n",
       "Southeast Asia                        5.517788\n",
       "East Asia                             5.483633\n",
       "Commonwealth of Independent States    5.358342\n",
       "Middle East and North Africa          5.269306\n",
       "Sub-Saharan Africa                    4.393856\n",
       "South Asia                            4.355083\n",
       "Name: happiness_score, dtype: float64"
      ]
     },
     "execution_count": 69,
     "metadata": {},
     "output_type": "execute_result"
    }
   ],
   "source": [
    "ranking_regions.head(10)"
   ]
  },
  {
   "cell_type": "markdown",
   "metadata": {},
   "source": [
    "The first region has only a few countries! What are them and what is their score?"
   ]
  },
  {
   "cell_type": "code",
   "execution_count": 70,
   "metadata": {},
   "outputs": [
    {
     "data": {
      "text/html": [
       "<div>\n",
       "<style scoped>\n",
       "    .dataframe tbody tr th:only-of-type {\n",
       "        vertical-align: middle;\n",
       "    }\n",
       "\n",
       "    .dataframe tbody tr th {\n",
       "        vertical-align: top;\n",
       "    }\n",
       "\n",
       "    .dataframe thead th {\n",
       "        text-align: right;\n",
       "    }\n",
       "</style>\n",
       "<table border=\"1\" class=\"dataframe\">\n",
       "  <thead>\n",
       "    <tr style=\"text-align: right;\">\n",
       "      <th></th>\n",
       "      <th>country</th>\n",
       "      <th>happiness_score</th>\n",
       "      <th>social_support</th>\n",
       "      <th>healthy_life_expectancy</th>\n",
       "      <th>freedom_of_choices</th>\n",
       "      <th>generosity</th>\n",
       "      <th>perception_of_corruption</th>\n",
       "      <th>world_region</th>\n",
       "      <th>area</th>\n",
       "      <th>population</th>\n",
       "      <th>literacy</th>\n",
       "    </tr>\n",
       "  </thead>\n",
       "  <tbody>\n",
       "    <tr>\n",
       "      <th>5</th>\n",
       "      <td>australia</td>\n",
       "      <td>7.2228</td>\n",
       "      <td>0.944855</td>\n",
       "      <td>73.604538</td>\n",
       "      <td>0.915432</td>\n",
       "      <td>0.190460</td>\n",
       "      <td>0.415169</td>\n",
       "      <td>North America and ANZ</td>\n",
       "      <td>7686850</td>\n",
       "      <td>20264082</td>\n",
       "      <td>100,0</td>\n",
       "    </tr>\n",
       "    <tr>\n",
       "      <th>21</th>\n",
       "      <td>canada</td>\n",
       "      <td>7.2321</td>\n",
       "      <td>0.927177</td>\n",
       "      <td>73.601601</td>\n",
       "      <td>0.933913</td>\n",
       "      <td>0.124771</td>\n",
       "      <td>0.390843</td>\n",
       "      <td>North America and ANZ</td>\n",
       "      <td>9984670</td>\n",
       "      <td>33098932</td>\n",
       "      <td>97,0</td>\n",
       "    </tr>\n",
       "    <tr>\n",
       "      <th>88</th>\n",
       "      <td>new zealand</td>\n",
       "      <td>7.2996</td>\n",
       "      <td>0.949119</td>\n",
       "      <td>73.202629</td>\n",
       "      <td>0.936217</td>\n",
       "      <td>0.191598</td>\n",
       "      <td>0.221139</td>\n",
       "      <td>North America and ANZ</td>\n",
       "      <td>268680</td>\n",
       "      <td>4076140</td>\n",
       "      <td>99,0</td>\n",
       "    </tr>\n",
       "    <tr>\n",
       "      <th>127</th>\n",
       "      <td>united states</td>\n",
       "      <td>6.9396</td>\n",
       "      <td>0.914219</td>\n",
       "      <td>68.299500</td>\n",
       "      <td>0.842620</td>\n",
       "      <td>0.149892</td>\n",
       "      <td>0.699715</td>\n",
       "      <td>North America and ANZ</td>\n",
       "      <td>9631420</td>\n",
       "      <td>298444215</td>\n",
       "      <td>97,0</td>\n",
       "    </tr>\n",
       "  </tbody>\n",
       "</table>\n",
       "</div>"
      ],
      "text/plain": [
       "           country  happiness_score  social_support  healthy_life_expectancy  \\\n",
       "5        australia           7.2228        0.944855                73.604538   \n",
       "21          canada           7.2321        0.927177                73.601601   \n",
       "88     new zealand           7.2996        0.949119                73.202629   \n",
       "127  united states           6.9396        0.914219                68.299500   \n",
       "\n",
       "     freedom_of_choices  generosity  perception_of_corruption  \\\n",
       "5              0.915432    0.190460                  0.415169   \n",
       "21             0.933913    0.124771                  0.390843   \n",
       "88             0.936217    0.191598                  0.221139   \n",
       "127            0.842620    0.149892                  0.699715   \n",
       "\n",
       "              world_region     area  population literacy  \n",
       "5    North America and ANZ  7686850    20264082    100,0  \n",
       "21   North America and ANZ  9984670    33098932     97,0  \n",
       "88   North America and ANZ   268680     4076140     99,0  \n",
       "127  North America and ANZ  9631420   298444215     97,0  "
      ]
     },
     "execution_count": 70,
     "metadata": {},
     "output_type": "execute_result"
    }
   ],
   "source": [
    "# Write your code here\n",
    "\n",
    "# The first region has only a few countries! What are them and what is their score?\n",
    "country_features[country_features[\"world_region\"]==\"North America and ANZ\"]"
   ]
  },
  {
   "cell_type": "markdown",
   "metadata": {},
   "source": [
    "## Task 4: How literate is the world?\n",
    "\n",
    "Print the names of the countries with a level of literacy of 100%. \n",
    "\n",
    "For each country, print the name and the world region in the format: *{region name} - {country name} ({happiness score})*"
   ]
  },
  {
   "cell_type": "code",
   "execution_count": 82,
   "metadata": {},
   "outputs": [
    {
     "data": {
      "text/html": [
       "<div>\n",
       "<style scoped>\n",
       "    .dataframe tbody tr th:only-of-type {\n",
       "        vertical-align: middle;\n",
       "    }\n",
       "\n",
       "    .dataframe tbody tr th {\n",
       "        vertical-align: top;\n",
       "    }\n",
       "\n",
       "    .dataframe thead th {\n",
       "        text-align: right;\n",
       "    }\n",
       "</style>\n",
       "<table border=\"1\" class=\"dataframe\">\n",
       "  <thead>\n",
       "    <tr style=\"text-align: right;\">\n",
       "      <th></th>\n",
       "      <th>country</th>\n",
       "      <th>happiness_score</th>\n",
       "      <th>social_support</th>\n",
       "      <th>healthy_life_expectancy</th>\n",
       "      <th>freedom_of_choices</th>\n",
       "      <th>generosity</th>\n",
       "      <th>perception_of_corruption</th>\n",
       "      <th>world_region</th>\n",
       "      <th>area</th>\n",
       "      <th>population</th>\n",
       "      <th>literacy</th>\n",
       "    </tr>\n",
       "  </thead>\n",
       "  <tbody>\n",
       "    <tr>\n",
       "      <th>0</th>\n",
       "      <td>afghanistan</td>\n",
       "      <td>2.5669</td>\n",
       "      <td>0.470367</td>\n",
       "      <td>52.590000</td>\n",
       "      <td>0.396573</td>\n",
       "      <td>-0.096429</td>\n",
       "      <td>0.933687</td>\n",
       "      <td>South Asia</td>\n",
       "      <td>647500</td>\n",
       "      <td>31056997</td>\n",
       "      <td>36,0</td>\n",
       "    </tr>\n",
       "    <tr>\n",
       "      <th>1</th>\n",
       "      <td>albania</td>\n",
       "      <td>4.8827</td>\n",
       "      <td>0.671070</td>\n",
       "      <td>68.708138</td>\n",
       "      <td>0.781994</td>\n",
       "      <td>-0.042309</td>\n",
       "      <td>0.896304</td>\n",
       "      <td>Central and Eastern Europe</td>\n",
       "      <td>28748</td>\n",
       "      <td>3581655</td>\n",
       "      <td>86,5</td>\n",
       "    </tr>\n",
       "    <tr>\n",
       "      <th>2</th>\n",
       "      <td>algeria</td>\n",
       "      <td>5.0051</td>\n",
       "      <td>0.803385</td>\n",
       "      <td>65.905174</td>\n",
       "      <td>0.466611</td>\n",
       "      <td>-0.121105</td>\n",
       "      <td>0.735485</td>\n",
       "      <td>Middle East and North Africa</td>\n",
       "      <td>2381740</td>\n",
       "      <td>32930091</td>\n",
       "      <td>70,0</td>\n",
       "    </tr>\n",
       "    <tr>\n",
       "      <th>3</th>\n",
       "      <td>argentina</td>\n",
       "      <td>5.9747</td>\n",
       "      <td>0.900568</td>\n",
       "      <td>68.803802</td>\n",
       "      <td>0.831132</td>\n",
       "      <td>-0.194914</td>\n",
       "      <td>0.842010</td>\n",
       "      <td>Latin America and Caribbean</td>\n",
       "      <td>2766890</td>\n",
       "      <td>39921833</td>\n",
       "      <td>97,1</td>\n",
       "    </tr>\n",
       "    <tr>\n",
       "      <th>4</th>\n",
       "      <td>armenia</td>\n",
       "      <td>4.6768</td>\n",
       "      <td>0.757479</td>\n",
       "      <td>66.750656</td>\n",
       "      <td>0.712018</td>\n",
       "      <td>-0.138780</td>\n",
       "      <td>0.773545</td>\n",
       "      <td>Commonwealth of Independent States</td>\n",
       "      <td>29800</td>\n",
       "      <td>2976372</td>\n",
       "      <td>98,6</td>\n",
       "    </tr>\n",
       "    <tr>\n",
       "      <th>...</th>\n",
       "      <td>...</td>\n",
       "      <td>...</td>\n",
       "      <td>...</td>\n",
       "      <td>...</td>\n",
       "      <td>...</td>\n",
       "      <td>...</td>\n",
       "      <td>...</td>\n",
       "      <td>...</td>\n",
       "      <td>...</td>\n",
       "      <td>...</td>\n",
       "      <td>...</td>\n",
       "    </tr>\n",
       "    <tr>\n",
       "      <th>130</th>\n",
       "      <td>venezuela</td>\n",
       "      <td>5.0532</td>\n",
       "      <td>0.890408</td>\n",
       "      <td>66.505341</td>\n",
       "      <td>0.623278</td>\n",
       "      <td>-0.169091</td>\n",
       "      <td>0.837038</td>\n",
       "      <td>Latin America and Caribbean</td>\n",
       "      <td>912050</td>\n",
       "      <td>25730435</td>\n",
       "      <td>93,4</td>\n",
       "    </tr>\n",
       "    <tr>\n",
       "      <th>131</th>\n",
       "      <td>vietnam</td>\n",
       "      <td>5.3535</td>\n",
       "      <td>0.849987</td>\n",
       "      <td>67.952736</td>\n",
       "      <td>0.939593</td>\n",
       "      <td>-0.094533</td>\n",
       "      <td>0.796421</td>\n",
       "      <td>Southeast Asia</td>\n",
       "      <td>329560</td>\n",
       "      <td>84402966</td>\n",
       "      <td>90,3</td>\n",
       "    </tr>\n",
       "    <tr>\n",
       "      <th>132</th>\n",
       "      <td>yemen</td>\n",
       "      <td>3.5274</td>\n",
       "      <td>0.817981</td>\n",
       "      <td>56.727283</td>\n",
       "      <td>0.599920</td>\n",
       "      <td>-0.157735</td>\n",
       "      <td>0.800288</td>\n",
       "      <td>Middle East and North Africa</td>\n",
       "      <td>527970</td>\n",
       "      <td>21456188</td>\n",
       "      <td>50,2</td>\n",
       "    </tr>\n",
       "    <tr>\n",
       "      <th>133</th>\n",
       "      <td>zambia</td>\n",
       "      <td>3.7594</td>\n",
       "      <td>0.698824</td>\n",
       "      <td>55.299377</td>\n",
       "      <td>0.806500</td>\n",
       "      <td>0.078037</td>\n",
       "      <td>0.801290</td>\n",
       "      <td>Sub-Saharan Africa</td>\n",
       "      <td>752614</td>\n",
       "      <td>11502010</td>\n",
       "      <td>80,6</td>\n",
       "    </tr>\n",
       "    <tr>\n",
       "      <th>134</th>\n",
       "      <td>zimbabwe</td>\n",
       "      <td>3.2992</td>\n",
       "      <td>0.763093</td>\n",
       "      <td>55.617260</td>\n",
       "      <td>0.711458</td>\n",
       "      <td>-0.072064</td>\n",
       "      <td>0.810237</td>\n",
       "      <td>Sub-Saharan Africa</td>\n",
       "      <td>390580</td>\n",
       "      <td>12236805</td>\n",
       "      <td>90,7</td>\n",
       "    </tr>\n",
       "  </tbody>\n",
       "</table>\n",
       "<p>135 rows × 11 columns</p>\n",
       "</div>"
      ],
      "text/plain": [
       "         country  happiness_score  social_support  healthy_life_expectancy  \\\n",
       "0    afghanistan           2.5669        0.470367                52.590000   \n",
       "1        albania           4.8827        0.671070                68.708138   \n",
       "2        algeria           5.0051        0.803385                65.905174   \n",
       "3      argentina           5.9747        0.900568                68.803802   \n",
       "4        armenia           4.6768        0.757479                66.750656   \n",
       "..           ...              ...             ...                      ...   \n",
       "130    venezuela           5.0532        0.890408                66.505341   \n",
       "131      vietnam           5.3535        0.849987                67.952736   \n",
       "132        yemen           3.5274        0.817981                56.727283   \n",
       "133       zambia           3.7594        0.698824                55.299377   \n",
       "134     zimbabwe           3.2992        0.763093                55.617260   \n",
       "\n",
       "     freedom_of_choices  generosity  perception_of_corruption  \\\n",
       "0              0.396573   -0.096429                  0.933687   \n",
       "1              0.781994   -0.042309                  0.896304   \n",
       "2              0.466611   -0.121105                  0.735485   \n",
       "3              0.831132   -0.194914                  0.842010   \n",
       "4              0.712018   -0.138780                  0.773545   \n",
       "..                  ...         ...                       ...   \n",
       "130            0.623278   -0.169091                  0.837038   \n",
       "131            0.939593   -0.094533                  0.796421   \n",
       "132            0.599920   -0.157735                  0.800288   \n",
       "133            0.806500    0.078037                  0.801290   \n",
       "134            0.711458   -0.072064                  0.810237   \n",
       "\n",
       "                           world_region     area  population literacy  \n",
       "0                            South Asia   647500    31056997     36,0  \n",
       "1            Central and Eastern Europe    28748     3581655     86,5  \n",
       "2          Middle East and North Africa  2381740    32930091     70,0  \n",
       "3           Latin America and Caribbean  2766890    39921833     97,1  \n",
       "4    Commonwealth of Independent States    29800     2976372     98,6  \n",
       "..                                  ...      ...         ...      ...  \n",
       "130         Latin America and Caribbean   912050    25730435     93,4  \n",
       "131                      Southeast Asia   329560    84402966     90,3  \n",
       "132        Middle East and North Africa   527970    21456188     50,2  \n",
       "133                  Sub-Saharan Africa   752614    11502010     80,6  \n",
       "134                  Sub-Saharan Africa   390580    12236805     90,7  \n",
       "\n",
       "[135 rows x 11 columns]"
      ]
     },
     "execution_count": 82,
     "metadata": {},
     "output_type": "execute_result"
    }
   ],
   "source": [
    "country_features"
   ]
  },
  {
   "cell_type": "code",
   "execution_count": 86,
   "metadata": {},
   "outputs": [
    {
     "name": "stdout",
     "output_type": "stream",
     "text": [
      "North America and ANZ - australia (7.222799778)\n",
      "Western Europe - denmark (7.645599842)\n",
      "Western Europe - finland (7.808700085)\n",
      "Western Europe - luxembourg (7.237500191)\n",
      "Western Europe - norway (7.487999916000001)\n"
     ]
    }
   ],
   "source": [
    "# Print the names of the countries with a level of literacy of 100%. \n",
    "\n",
    "# For each country, print the name and the world region in the format: *{region name} - {country name} ({happiness score})*\n",
    "\n",
    "for index, row in country_features[country_features[\"literacy\"] == \"100,0\"].iterrows():\n",
    "    print(f\"{row['world_region']} - {row['country']} ({row['happiness_score']})\")"
   ]
  },
  {
   "cell_type": "markdown",
   "metadata": {},
   "source": [
    "What is the global average?"
   ]
  },
  {
   "cell_type": "code",
   "execution_count": 88,
   "metadata": {},
   "outputs": [
    {
     "data": {
      "text/plain": [
       "5.525062216659259"
      ]
     },
     "execution_count": 88,
     "metadata": {},
     "output_type": "execute_result"
    }
   ],
   "source": [
    "# What is the global average?\n",
    "\n",
    "country_features[\"happiness_score\"].mean()"
   ]
  },
  {
   "cell_type": "markdown",
   "metadata": {},
   "source": [
    "Calculate the proportion of countries with a literacy level below 50%. Print the value in percentage, formatted with 2 decimals."
   ]
  },
  {
   "cell_type": "code",
   "execution_count": 90,
   "metadata": {},
   "outputs": [
    {
     "data": {
      "text/plain": [
       "15.555555555555555"
      ]
     },
     "execution_count": 90,
     "metadata": {},
     "output_type": "execute_result"
    }
   ],
   "source": [
    "# Calculate the proportion of countries with a literacy level below 50%. Print the value in percentage, formatted with 2 decimals.\n",
    "\n",
    "(country_features[country_features[\"literacy\"] < \"50,0\"].shape[0] / country_features.shape[0]) * 100"
   ]
  },
  {
   "cell_type": "markdown",
   "metadata": {},
   "source": [
    "Print the raw number and the percentage of world population that is illiterate."
   ]
  },
  {
   "cell_type": "code",
   "execution_count": 11,
   "metadata": {},
   "outputs": [],
   "source": [
    "# Write your code here\n",
    "\n"
   ]
  },
  {
   "cell_type": "markdown",
   "metadata": {},
   "source": [
    "## Task 5: Population density\n",
    "\n",
    "Add to the dataframe a new field called *population_density* computed by dividing *population* by *area*."
   ]
  },
  {
   "cell_type": "code",
   "execution_count": 12,
   "metadata": {},
   "outputs": [],
   "source": [
    "# Write your code here"
   ]
  },
  {
   "cell_type": "markdown",
   "metadata": {},
   "source": [
    "What is the happiness score of the 3 countries with the lowest population density?"
   ]
  },
  {
   "cell_type": "code",
   "execution_count": 13,
   "metadata": {},
   "outputs": [],
   "source": [
    "# Write your code here"
   ]
  },
  {
   "cell_type": "markdown",
   "metadata": {},
   "source": [
    "## Task 6: Healty and happy?\n",
    "\n",
    "Plot in a scatter plot the happiness score (x) and healty life expectancy (y)."
   ]
  },
  {
   "cell_type": "code",
   "execution_count": 14,
   "metadata": {},
   "outputs": [],
   "source": [
    "# Write your code here"
   ]
  },
  {
   "cell_type": "markdown",
   "metadata": {},
   "source": [
    "Feel free to continue the exploration of the dataset! We'll release the solutions next week.\n",
    "\n",
    "----\n",
    "Enjoy EPFL and be happy, next year Switzerland must be #1."
   ]
  }
 ],
 "metadata": {
  "kernelspec": {
   "display_name": "Python 3 (ipykernel)",
   "language": "python",
   "name": "python3"
  },
  "language_info": {
   "codemirror_mode": {
    "name": "ipython",
    "version": 3
   },
   "file_extension": ".py",
   "mimetype": "text/x-python",
   "name": "python",
   "nbconvert_exporter": "python",
   "pygments_lexer": "ipython3",
   "version": "3.11.9"
  }
 },
 "nbformat": 4,
 "nbformat_minor": 4
}
